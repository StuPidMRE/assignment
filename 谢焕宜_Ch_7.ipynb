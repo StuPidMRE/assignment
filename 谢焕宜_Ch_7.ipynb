{
  "nbformat": 4,
  "nbformat_minor": 0,
  "metadata": {
    "accelerator": "GPU",
    "colab": {
      "name": "谢焕宜_Ch_7",
      "provenance": [],
      "collapsed_sections": [
        "PNvXZaxiC9k7"
      ],
      "toc_visible": true,
      "include_colab_link": true
    },
    "jupytext": {
      "split_at_heading": true
    },
    "kernelspec": {
      "display_name": "Python 3",
      "language": "python",
      "name": "python3"
    },
    "language_info": {
      "codemirror_mode": {
        "name": "ipython",
        "version": 3
      },
      "file_extension": ".py",
      "mimetype": "text/x-python",
      "name": "python",
      "nbconvert_exporter": "python",
      "pygments_lexer": "ipython3",
      "version": "3.7.6"
    },
    "widgets": {
      "application/vnd.jupyter.widget-state+json": {
        "00c76e936c454b278d075735230982c6": {
          "model_module": "@jupyter-widgets/controls",
          "model_name": "HBoxModel",
          "state": {
            "_view_name": "HBoxView",
            "_dom_classes": [],
            "_model_name": "HBoxModel",
            "_view_module": "@jupyter-widgets/controls",
            "_model_module_version": "1.5.0",
            "_view_count": null,
            "_view_module_version": "1.5.0",
            "box_style": "",
            "layout": "IPY_MODEL_70e3a6b4e3de4f9cb862d760b78ca9d8",
            "_model_module": "@jupyter-widgets/controls",
            "children": [
              "IPY_MODEL_a789e333a4fd47348b89d7d87a245253",
              "IPY_MODEL_5f63248828674670b1021e8a7a007e16"
            ]
          }
        },
        "70e3a6b4e3de4f9cb862d760b78ca9d8": {
          "model_module": "@jupyter-widgets/base",
          "model_name": "LayoutModel",
          "state": {
            "_view_name": "LayoutView",
            "grid_template_rows": null,
            "right": null,
            "justify_content": null,
            "_view_module": "@jupyter-widgets/base",
            "overflow": null,
            "_model_module_version": "1.2.0",
            "_view_count": null,
            "flex_flow": null,
            "width": null,
            "min_width": null,
            "border": null,
            "align_items": null,
            "bottom": null,
            "_model_module": "@jupyter-widgets/base",
            "top": null,
            "grid_column": null,
            "overflow_y": null,
            "overflow_x": null,
            "grid_auto_flow": null,
            "grid_area": null,
            "grid_template_columns": null,
            "flex": null,
            "_model_name": "LayoutModel",
            "justify_items": null,
            "grid_row": null,
            "max_height": null,
            "align_content": null,
            "visibility": null,
            "align_self": null,
            "height": null,
            "min_height": null,
            "padding": null,
            "grid_auto_rows": null,
            "grid_gap": null,
            "max_width": null,
            "order": null,
            "_view_module_version": "1.2.0",
            "grid_template_areas": null,
            "object_position": null,
            "object_fit": null,
            "grid_auto_columns": null,
            "margin": null,
            "display": null,
            "left": null
          }
        },
        "a789e333a4fd47348b89d7d87a245253": {
          "model_module": "@jupyter-widgets/controls",
          "model_name": "FloatProgressModel",
          "state": {
            "_view_name": "ProgressView",
            "style": "IPY_MODEL_4c6828a95dbc4ad1ad7cb3d38d0ed33e",
            "_dom_classes": [],
            "description": "100%",
            "_model_name": "FloatProgressModel",
            "bar_style": "success",
            "max": 46827520,
            "_view_module": "@jupyter-widgets/controls",
            "_model_module_version": "1.5.0",
            "value": 46827520,
            "_view_count": null,
            "_view_module_version": "1.5.0",
            "orientation": "horizontal",
            "min": 0,
            "description_tooltip": null,
            "_model_module": "@jupyter-widgets/controls",
            "layout": "IPY_MODEL_b0de8a3e27f94fbf83c9eb9a8e8e8140"
          }
        },
        "5f63248828674670b1021e8a7a007e16": {
          "model_module": "@jupyter-widgets/controls",
          "model_name": "HTMLModel",
          "state": {
            "_view_name": "HTMLView",
            "style": "IPY_MODEL_7ecf36914c554e0790e9d2e4d3b9e20b",
            "_dom_classes": [],
            "description": "",
            "_model_name": "HTMLModel",
            "placeholder": "​",
            "_view_module": "@jupyter-widgets/controls",
            "_model_module_version": "1.5.0",
            "value": " 44.7M/44.7M [00:00&lt;00:00, 80.0MB/s]",
            "_view_count": null,
            "_view_module_version": "1.5.0",
            "description_tooltip": null,
            "_model_module": "@jupyter-widgets/controls",
            "layout": "IPY_MODEL_2732749dd2bc4c019e7d675065ce1333"
          }
        },
        "4c6828a95dbc4ad1ad7cb3d38d0ed33e": {
          "model_module": "@jupyter-widgets/controls",
          "model_name": "ProgressStyleModel",
          "state": {
            "_view_name": "StyleView",
            "_model_name": "ProgressStyleModel",
            "description_width": "initial",
            "_view_module": "@jupyter-widgets/base",
            "_model_module_version": "1.5.0",
            "_view_count": null,
            "_view_module_version": "1.2.0",
            "bar_color": null,
            "_model_module": "@jupyter-widgets/controls"
          }
        },
        "b0de8a3e27f94fbf83c9eb9a8e8e8140": {
          "model_module": "@jupyter-widgets/base",
          "model_name": "LayoutModel",
          "state": {
            "_view_name": "LayoutView",
            "grid_template_rows": null,
            "right": null,
            "justify_content": null,
            "_view_module": "@jupyter-widgets/base",
            "overflow": null,
            "_model_module_version": "1.2.0",
            "_view_count": null,
            "flex_flow": null,
            "width": null,
            "min_width": null,
            "border": null,
            "align_items": null,
            "bottom": null,
            "_model_module": "@jupyter-widgets/base",
            "top": null,
            "grid_column": null,
            "overflow_y": null,
            "overflow_x": null,
            "grid_auto_flow": null,
            "grid_area": null,
            "grid_template_columns": null,
            "flex": null,
            "_model_name": "LayoutModel",
            "justify_items": null,
            "grid_row": null,
            "max_height": null,
            "align_content": null,
            "visibility": null,
            "align_self": null,
            "height": null,
            "min_height": null,
            "padding": null,
            "grid_auto_rows": null,
            "grid_gap": null,
            "max_width": null,
            "order": null,
            "_view_module_version": "1.2.0",
            "grid_template_areas": null,
            "object_position": null,
            "object_fit": null,
            "grid_auto_columns": null,
            "margin": null,
            "display": null,
            "left": null
          }
        },
        "7ecf36914c554e0790e9d2e4d3b9e20b": {
          "model_module": "@jupyter-widgets/controls",
          "model_name": "DescriptionStyleModel",
          "state": {
            "_view_name": "StyleView",
            "_model_name": "DescriptionStyleModel",
            "description_width": "",
            "_view_module": "@jupyter-widgets/base",
            "_model_module_version": "1.5.0",
            "_view_count": null,
            "_view_module_version": "1.2.0",
            "_model_module": "@jupyter-widgets/controls"
          }
        },
        "2732749dd2bc4c019e7d675065ce1333": {
          "model_module": "@jupyter-widgets/base",
          "model_name": "LayoutModel",
          "state": {
            "_view_name": "LayoutView",
            "grid_template_rows": null,
            "right": null,
            "justify_content": null,
            "_view_module": "@jupyter-widgets/base",
            "overflow": null,
            "_model_module_version": "1.2.0",
            "_view_count": null,
            "flex_flow": null,
            "width": null,
            "min_width": null,
            "border": null,
            "align_items": null,
            "bottom": null,
            "_model_module": "@jupyter-widgets/base",
            "top": null,
            "grid_column": null,
            "overflow_y": null,
            "overflow_x": null,
            "grid_auto_flow": null,
            "grid_area": null,
            "grid_template_columns": null,
            "flex": null,
            "_model_name": "LayoutModel",
            "justify_items": null,
            "grid_row": null,
            "max_height": null,
            "align_content": null,
            "visibility": null,
            "align_self": null,
            "height": null,
            "min_height": null,
            "padding": null,
            "grid_auto_rows": null,
            "grid_gap": null,
            "max_width": null,
            "order": null,
            "_view_module_version": "1.2.0",
            "grid_template_areas": null,
            "object_position": null,
            "object_fit": null,
            "grid_auto_columns": null,
            "margin": null,
            "display": null,
            "left": null
          }
        }
      }
    }
  },
  "cells": [
    {
      "cell_type": "markdown",
      "metadata": {
        "id": "view-in-github",
        "colab_type": "text"
      },
      "source": [
        "<a href=\"https://colab.research.google.com/github/StuPidMRE/assignment/blob/main/%E8%B0%A2%E7%84%95%E5%AE%9C_Ch_7.ipynb\" target=\"_parent\"><img src=\"https://colab.research.google.com/assets/colab-badge.svg\" alt=\"Open In Colab\"/></a>"
      ]
    },
    {
      "cell_type": "code",
      "metadata": {
        "colab": {
          "base_uri": "https://localhost:8080/"
        },
        "id": "Vgw2stGBC9ka",
        "outputId": "d66b7a1a-ab98-4ebe-89ab-815ce8546cd9"
      },
      "source": [
        "!pip install -Uqq fastbook\n",
        "import fastbook\n",
        "fastbook.setup_book()"
      ],
      "execution_count": 2,
      "outputs": [
        {
          "output_type": "stream",
          "text": [
            "\u001b[K     |████████████████████████████████| 727kB 10.8MB/s \n",
            "\u001b[K     |████████████████████████████████| 51kB 5.9MB/s \n",
            "\u001b[K     |████████████████████████████████| 1.2MB 24.4MB/s \n",
            "\u001b[K     |████████████████████████████████| 204kB 35.4MB/s \n",
            "\u001b[K     |████████████████████████████████| 61kB 7.4MB/s \n",
            "\u001b[K     |████████████████████████████████| 61kB 7.7MB/s \n",
            "\u001b[?25hMounted at /content/gdrive\n"
          ],
          "name": "stdout"
        }
      ]
    },
    {
      "cell_type": "code",
      "metadata": {
        "id": "ZQQrawG6C9kk"
      },
      "source": [
        "from fastbook import *"
      ],
      "execution_count": 4,
      "outputs": []
    },
    {
      "cell_type": "raw",
      "metadata": {
        "id": "ghNfVgdnC9kl"
      },
      "source": [
        "[[chapter_sizing_and_tta]]"
      ]
    },
    {
      "cell_type": "markdown",
      "metadata": {
        "id": "6tT8i-1PC9ko"
      },
      "source": [
        "# Training a State-of-the-Art Model"
      ]
    },
    {
      "cell_type": "markdown",
      "metadata": {
        "id": "kSvBbA5dC9kp"
      },
      "source": [
        "This chapter introduces more advanced techniques for training an image classification model and getting state-of-the-art results. You can skip it if you want to learn more about other applications of deep learning and come back to it later—knowledge of this material will not be assumed in later chapters.\n",
        "\n",
        "We will look at what normalization is, a powerful data augmentation technique called mixup, the progressive resizing approach and test time augmentation. To show all of this, we are going to train a model from scratch (not using transfer learning) using a subset of ImageNet called [Imagenette](https://github.com/fastai/imagenette). It contains a subset of 10 very different categories from the original ImageNet dataset, making for quicker training when we want to experiment.\n",
        "\n",
        "This is going to be much harder to do well than with our previous datasets because we're using full-size, full-color images, which are photos of objects of different sizes, in different orientations, in different lighting, and so forth. So, in this chapter we're going to introduce some important techniques for getting the most out of your dataset, especially when you're training from scratch, or using transfer learning to train a model on a very different kind of dataset than the pretrained model used."
      ]
    },
    {
      "cell_type": "markdown",
      "metadata": {
        "id": "CoLNTDmcC9kq"
      },
      "source": [
        "## Imagenette"
      ]
    },
    {
      "cell_type": "markdown",
      "metadata": {
        "id": "pYrfB6XEC9kq"
      },
      "source": [
        "When fast.ai first started there were three main datasets that people used for building and testing computer vision models:\n",
        "\n",
        "- ImageNet:: 1.3 million images of various sizes around 500 pixels across, in 1,000 categories, which took a few days to train\n",
        "- MNIST:: 50,000 28×28-pixel grayscale handwritten digits\n",
        "- CIFAR10:: 60,000 32×32-pixel color images in 10 classes\n",
        "\n",
        "The problem was that the smaller datasets didn't actually generalize effectively to the large ImageNet dataset. The approaches that worked well on ImageNet generally had to be developed and trained on ImageNet. This led to many people believing that only researchers with access to giant computing resources could effectively contribute to developing image classification algorithms.\n",
        "\n",
        "We thought that seemed very unlikely to be true. We had never actually seen a study that showed that ImageNet happen to be exactly the right size, and that other datasets could not be developed which would provide useful insights. So we thought we would try to create a new dataset that researchers could test their algorithms on quickly and cheaply, but which would also provide insights likely to work on the full ImageNet dataset.\n",
        "\n",
        "About three hours later we had created Imagenette. We selected 10 classes from the full ImageNet that looked very different from one another. As we had hoped, we were able to quickly and cheaply create a classifier capable of recognizing these classes. We then tried out a few algorithmic tweaks to see how they impacted Imagenette. We found some that worked pretty well, and tested them on ImageNet as well—and we were very pleased to find that our tweaks worked well on ImageNet too!\n",
        "\n",
        "There is an important message here: the dataset you get given is not necessarily the dataset you want. It's particularly unlikely to be the dataset that you want to do your development and prototyping in. You should aim to have an iteration speed of no more than a couple of minutes—that is, when you come up with a new idea you want to try out, you should be able to train a model and see how it goes within a couple of minutes. If it's taking longer to do an experiment, think about how you could cut down your dataset, or simplify your model, to improve your experimentation speed. The more experiments you can do, the better!\n",
        "\n",
        "Let's get started with this dataset:"
      ]
    },
    {
      "cell_type": "code",
      "metadata": {
        "colab": {
          "base_uri": "https://localhost:8080/",
          "height": 17
        },
        "id": "NMZzzot-C9ks",
        "outputId": "3431c962-ad22-4bf6-c8d7-74a001834476"
      },
      "source": [
        "from fastai.vision.all import *\n",
        "path = untar_data(URLs.IMAGENETTE)"
      ],
      "execution_count": 5,
      "outputs": [
        {
          "output_type": "display_data",
          "data": {
            "text/html": [
              ""
            ],
            "text/plain": [
              "<IPython.core.display.HTML object>"
            ]
          },
          "metadata": {
            "tags": []
          }
        }
      ]
    },
    {
      "cell_type": "markdown",
      "metadata": {
        "id": "6B0-P7C2C9ks"
      },
      "source": [
        "First we'll get our dataset into a `DataLoaders` object, using the *presizing* trick introduced in <<chapter_pet_breeds>>:"
      ]
    },
    {
      "cell_type": "code",
      "metadata": {
        "id": "EXv6DCoVC9ks"
      },
      "source": [
        "dblock = DataBlock(blocks=(ImageBlock(), CategoryBlock()),\n",
        "                   get_items=get_image_files,\n",
        "                   get_y=parent_label,\n",
        "                   item_tfms=Resize(460),\n",
        "                   batch_tfms=aug_transforms(size=224, min_scale=0.75))\n",
        "dls = dblock.dataloaders(path, bs=64)"
      ],
      "execution_count": 6,
      "outputs": []
    },
    {
      "cell_type": "markdown",
      "metadata": {
        "id": "1qRwY5AQC9kt"
      },
      "source": [
        "and do a training run that will serve as a baseline:"
      ]
    },
    {
      "cell_type": "code",
      "metadata": {
        "colab": {
          "base_uri": "https://localhost:8080/",
          "height": 204
        },
        "id": "2gHW3La2C9kt",
        "outputId": "e577dc13-7beb-4675-82fe-ff03fc407788"
      },
      "source": [
        "model = xresnet50(n_out=dls.c)\n",
        "learn = Learner(dls, model, loss_func=CrossEntropyLossFlat(), metrics=accuracy)\n",
        "learn.fit_one_cycle(5, 3e-3)"
      ],
      "execution_count": null,
      "outputs": [
        {
          "output_type": "display_data",
          "data": {
            "text/html": [
              "<table border=\"1\" class=\"dataframe\">\n",
              "  <thead>\n",
              "    <tr style=\"text-align: left;\">\n",
              "      <th>epoch</th>\n",
              "      <th>train_loss</th>\n",
              "      <th>valid_loss</th>\n",
              "      <th>accuracy</th>\n",
              "      <th>time</th>\n",
              "    </tr>\n",
              "  </thead>\n",
              "  <tbody>\n",
              "    <tr>\n",
              "      <td>0</td>\n",
              "      <td>1.569145</td>\n",
              "      <td>2.397386</td>\n",
              "      <td>0.421957</td>\n",
              "      <td>02:48</td>\n",
              "    </tr>\n",
              "    <tr>\n",
              "      <td>1</td>\n",
              "      <td>1.183042</td>\n",
              "      <td>1.637399</td>\n",
              "      <td>0.486184</td>\n",
              "      <td>02:53</td>\n",
              "    </tr>\n",
              "    <tr>\n",
              "      <td>2</td>\n",
              "      <td>0.930797</td>\n",
              "      <td>0.954389</td>\n",
              "      <td>0.697909</td>\n",
              "      <td>02:56</td>\n",
              "    </tr>\n",
              "    <tr>\n",
              "      <td>3</td>\n",
              "      <td>0.707501</td>\n",
              "      <td>0.661927</td>\n",
              "      <td>0.786034</td>\n",
              "      <td>02:56</td>\n",
              "    </tr>\n",
              "    <tr>\n",
              "      <td>4</td>\n",
              "      <td>0.577147</td>\n",
              "      <td>0.574331</td>\n",
              "      <td>0.823749</td>\n",
              "      <td>02:55</td>\n",
              "    </tr>\n",
              "  </tbody>\n",
              "</table>"
            ],
            "text/plain": [
              "<IPython.core.display.HTML object>"
            ]
          },
          "metadata": {
            "tags": []
          }
        }
      ]
    },
    {
      "cell_type": "markdown",
      "metadata": {
        "id": "JtLmvKB4C9kv"
      },
      "source": [
        "That's a good baseline, since we are not using a pretrained model, but we can do better. When working with models that are being trained from scratch, or fine-tuned to a very different dataset than the one used for the pretraining, there are some additional techniques that are really important. In the rest of the chapter we'll consider some of the key approaches you'll want to be familiar with. The first one is *normalizing* your data."
      ]
    },
    {
      "cell_type": "markdown",
      "metadata": {
        "id": "cebr6wnqC9kx"
      },
      "source": [
        "## Normalization"
      ]
    },
    {
      "cell_type": "markdown",
      "metadata": {
        "id": "inW5lFYpC9kx"
      },
      "source": [
        "When training a model, it helps if your input data is normalized—that is, has a mean of 0 and a standard deviation of 1. But most images and computer vision libraries use values between 0 and 255 for pixels, or between 0 and 1; in either case, your data is not going to have a mean of 0 and a standard deviation of 1.\n",
        "\n",
        "Let's grab a batch of our data and look at those values, by averaging over all axes except for the channel axis, which is axis 1:"
      ]
    },
    {
      "cell_type": "code",
      "metadata": {
        "colab": {
          "base_uri": "https://localhost:8080/"
        },
        "id": "HDtvIpuMC9ky",
        "outputId": "4fe31ba3-bd4a-4e0b-cffe-46426fc1d96d"
      },
      "source": [
        "x,y = dls.one_batch()\n",
        "x.mean(dim=[0,2,3]),x.std(dim=[0,2,3])"
      ],
      "execution_count": null,
      "outputs": [
        {
          "output_type": "execute_result",
          "data": {
            "text/plain": [
              "(TensorImage([0.4811, 0.4685, 0.4257], device='cuda:0'),\n",
              " TensorImage([0.2961, 0.2846, 0.3113], device='cuda:0'))"
            ]
          },
          "metadata": {
            "tags": []
          },
          "execution_count": 6
        }
      ]
    },
    {
      "cell_type": "markdown",
      "metadata": {
        "id": "OhUibI9IC9ky"
      },
      "source": [
        "As we expected, the mean and standard deviation are not very close to the desired values. Fortunately, normalizing the data is easy to do in fastai by adding the `Normalize` transform. This acts on a whole mini-batch at once, so you can add it to the `batch_tfms` section of your data block. You need to pass to this transform the mean and standard deviation that you want to use; fastai comes with the standard ImageNet mean and standard deviation already defined. (If you do not pass any statistics to the `Normalize` transform, fastai will automatically calculate them from a single batch of your data.)\n",
        "\n",
        "Let's add this transform (using `imagenet_stats` as Imagenette is a subset of ImageNet) and take a look at one batch now:"
      ]
    },
    {
      "cell_type": "code",
      "metadata": {
        "id": "Q0CtwXA5C9ky"
      },
      "source": [
        "def get_dls(bs, size):\n",
        "    dblock = DataBlock(blocks=(ImageBlock, CategoryBlock),\n",
        "                       get_items=get_image_files,\n",
        "                       get_y=parent_label,\n",
        "                       item_tfms=Resize(460),\n",
        "                       batch_tfms=[*aug_transforms(size=size, min_scale=0.75),\n",
        "                                   Normalize.from_stats(*imagenet_stats)])\n",
        "    return dblock.dataloaders(path, bs=bs)"
      ],
      "execution_count": null,
      "outputs": []
    },
    {
      "cell_type": "code",
      "metadata": {
        "id": "jIvfDxgNC9kz"
      },
      "source": [
        "dls = get_dls(64, 224)"
      ],
      "execution_count": null,
      "outputs": []
    },
    {
      "cell_type": "code",
      "metadata": {
        "colab": {
          "base_uri": "https://localhost:8080/"
        },
        "id": "4wH1DsFOC9kz",
        "outputId": "7ea21763-010b-4ecd-e3d4-b736698526f8"
      },
      "source": [
        "x,y = dls.one_batch()\n",
        "x.mean(dim=[0,2,3]),x.std(dim=[0,2,3])"
      ],
      "execution_count": null,
      "outputs": [
        {
          "output_type": "execute_result",
          "data": {
            "text/plain": [
              "(TensorImage([-0.0280,  0.0615,  0.1304], device='cuda:0'),\n",
              " TensorImage([1.2377, 1.2495, 1.3558], device='cuda:0'))"
            ]
          },
          "metadata": {
            "tags": []
          },
          "execution_count": 9
        }
      ]
    },
    {
      "cell_type": "markdown",
      "metadata": {
        "id": "E7P9Eh-5C9kz"
      },
      "source": [
        "Let's check what effect this had on training our model:"
      ]
    },
    {
      "cell_type": "code",
      "metadata": {
        "colab": {
          "base_uri": "https://localhost:8080/",
          "height": 95
        },
        "id": "AS73vq-NC9kz",
        "outputId": "efddcdf1-0af2-4ecb-c4bc-b549e57803af"
      },
      "source": [
        "model = xresnet50(n_out=dls.c)\n",
        "learn = Learner(dls, model, loss_func=CrossEntropyLossFlat(), metrics=accuracy)\n",
        "learn.fit_one_cycle(5, 3e-3)"
      ],
      "execution_count": null,
      "outputs": [
        {
          "output_type": "display_data",
          "data": {
            "text/html": [
              "\n",
              "    <div>\n",
              "        <style>\n",
              "            /* Turns off some styling */\n",
              "            progress {\n",
              "                /* gets rid of default border in Firefox and Opera. */\n",
              "                border: none;\n",
              "                /* Needs to be in here for Safari polyfill so background images work as expected. */\n",
              "                background-size: auto;\n",
              "            }\n",
              "            .progress-bar-interrupted, .progress-bar-interrupted::-webkit-progress-bar {\n",
              "                background: #F44336;\n",
              "            }\n",
              "        </style>\n",
              "      <progress value='0' class='' max='5' style='width:300px; height:20px; vertical-align: middle;'></progress>\n",
              "      0.00% [0/5 00:00<00:00]\n",
              "    </div>\n",
              "    \n",
              "<table border=\"1\" class=\"dataframe\">\n",
              "  <thead>\n",
              "    <tr style=\"text-align: left;\">\n",
              "      <th>epoch</th>\n",
              "      <th>train_loss</th>\n",
              "      <th>valid_loss</th>\n",
              "      <th>accuracy</th>\n",
              "      <th>time</th>\n",
              "    </tr>\n",
              "  </thead>\n",
              "  <tbody>\n",
              "  </tbody>\n",
              "</table><p>\n",
              "\n",
              "    <div>\n",
              "        <style>\n",
              "            /* Turns off some styling */\n",
              "            progress {\n",
              "                /* gets rid of default border in Firefox and Opera. */\n",
              "                border: none;\n",
              "                /* Needs to be in here for Safari polyfill so background images work as expected. */\n",
              "                background-size: auto;\n",
              "            }\n",
              "            .progress-bar-interrupted, .progress-bar-interrupted::-webkit-progress-bar {\n",
              "                background: #F44336;\n",
              "            }\n",
              "        </style>\n",
              "      <progress value='25' class='' max='42' style='width:300px; height:20px; vertical-align: middle;'></progress>\n",
              "      59.52% [25/42 00:15<00:10 1.6269]\n",
              "    </div>\n",
              "    "
            ],
            "text/plain": [
              "<IPython.core.display.HTML object>"
            ]
          },
          "metadata": {
            "tags": []
          }
        }
      ]
    },
    {
      "cell_type": "markdown",
      "metadata": {
        "id": "2d69M-1dC9k0"
      },
      "source": [
        "Although it only helped a little here, normalization becomes especially important when using pretrained models. The pretrained model only knows how to work with data of the type that it has seen before. If the average pixel value was 0 in the data it was trained with, but your data has 0 as the minimum possible value of a pixel, then the model is going to be seeing something very different to what is intended! \n",
        "\n",
        "This means that when you distribute a model, you need to also distribute the statistics used for normalization, since anyone using it for inference, or transfer learning, will need to use the same statistics. By the same token, if you're using a model that someone else has trained, make sure you find out what normalization statistics they used, and match them.\n",
        "\n",
        "We didn't have to handle normalization in previous chapters because when using a pretrained model through `cnn_learner`, the fastai library automatically adds the proper `Normalize` transform; the model has been pretrained with certain statistics in `Normalize` (usually coming from the ImageNet dataset), so the library can fill those in for you. Note that this only applies with pretrained models, which is why we need to add this information manually here, when training from scratch.\n",
        "\n",
        "All our training up until now has been done at size 224. We could have begun training at a smaller size before going to that. This is called *progressive resizing*."
      ]
    },
    {
      "cell_type": "markdown",
      "metadata": {
        "id": "Pd023VYFC9k0"
      },
      "source": [
        "## Progressive Resizing"
      ]
    },
    {
      "cell_type": "markdown",
      "metadata": {
        "id": "H7ZXEXYXC9k0"
      },
      "source": [
        "When fast.ai and its team of students [won the DAWNBench competition](https://www.theverge.com/2018/5/7/17316010/fast-ai-speed-test-stanford-dawnbench-google-intel) in 2018, one of the most important innovations was something very simple: start training using small images, and end training using large images. Spending most of the epochs training with small images, helps training complete much faster. Completing training using large images makes the final accuracy much higher. We call this approach *progressive resizing*."
      ]
    },
    {
      "cell_type": "markdown",
      "metadata": {
        "id": "pg9G6122C9k0"
      },
      "source": [
        "> jargon: progressive resizing: Gradually using larger and larger images as you train."
      ]
    },
    {
      "cell_type": "markdown",
      "metadata": {
        "id": "ipPCG53hC9k1"
      },
      "source": [
        "As we have seen, the kinds of features that are learned by convolutional neural networks are not in any way specific to the size of the image—early layers find things like edges and gradients, and later layers may find things like noses and sunsets. So, when we change image size in the middle of training, it doesn't mean that we have to find totally different parameters for our model.\n",
        "\n",
        "But clearly there are some differences between small images and big ones, so we shouldn't expect our model to continue working exactly as well, with no changes at all. Does this remind you of something? When we developed this idea, it reminded us of transfer learning! We are trying to get our model to learn to do something a little bit different from what it has learned to do before. Therefore, we should be able to use the `fine_tune` method after we resize our images.\n",
        "\n",
        "There is an additional benefit to progressive resizing: it is another form of data augmentation. Therefore, you should expect to see better generalization of your models that are trained with progressive resizing.\n",
        "\n",
        "To implement progressive resizing it is most convenient if you first create a `get_dls` function which takes an image size and a batch size as we did in the section before, and returns your `DataLoaders`:\n",
        "\n",
        "Now you can create your `DataLoaders` with a small size and use `fit_one_cycle` in the usual way, training for a few less epochs than you might otherwise do:"
      ]
    },
    {
      "cell_type": "code",
      "metadata": {
        "id": "jJIR-BHVC9k1"
      },
      "source": [
        "dls = get_dls(128, 128)\n",
        "learn = Learner(dls, xresnet50(n_out=dls.c), loss_func=CrossEntropyLossFlat(), \n",
        "                metrics=accuracy)\n",
        "learn.fit_one_cycle(4, 3e-3)"
      ],
      "execution_count": null,
      "outputs": []
    },
    {
      "cell_type": "markdown",
      "metadata": {
        "id": "sPoKzbQ9C9k1"
      },
      "source": [
        "Then you can replace the `DataLoaders` inside the `Learner`, and fine-tune:"
      ]
    },
    {
      "cell_type": "code",
      "metadata": {
        "colab": {
          "background_save": true
        },
        "id": "SN9cLFrYC9k2"
      },
      "source": [
        "learn.dls = get_dls(64, 224)\n",
        "learn.fine_tune(5, 1e-3)"
      ],
      "execution_count": null,
      "outputs": []
    },
    {
      "cell_type": "markdown",
      "metadata": {
        "id": "ma44EkXQC9k2"
      },
      "source": [
        "As you can see, we're getting much better performance, and the initial training on small images was much faster on each epoch.\n",
        "\n",
        "You can repeat the process of increasing size and training more epochs as many times as you like, for as big an image as you wish—but of course, you will not get any benefit by using an image size larger than the size of your images on disk.\n",
        "\n",
        "Note that for transfer learning, progressive resizing may actually hurt performance. This is most likely to happen if your pretrained model was quite similar to your transfer learning task and dataset and was trained on similar-sized images, so the weights don't need to be changed much. In that case, training on smaller images may damage the pretrained weights.\n",
        "\n",
        "On the other hand, if the transfer learning task is going to use images that are of different sizes, shapes, or styles than those used in the pretraining task, progressive resizing will probably help. As always, the answer to \"Will it help?\" is \"Try it!\"\n",
        "\n",
        "Another thing we could try is applying data augmentation to the validation set. Up until now, we have only applied it on the training set; the validation set always gets the same images. But maybe we could try to make predictions for a few augmented versions of the validation set and average them. We'll consider this approach next."
      ]
    },
    {
      "cell_type": "markdown",
      "metadata": {
        "id": "lWaQnhyvC9k2"
      },
      "source": [
        "## Test Time Augmentation"
      ]
    },
    {
      "cell_type": "markdown",
      "metadata": {
        "id": "CjU_gyIbC9k2"
      },
      "source": [
        "We have been using random cropping as a way to get some useful data augmentation, which leads to better generalization, and results in a need for less training data. When we use random cropping, fastai will automatically use center cropping for the validation set—that is, it will select the largest square area it can in the center of the image, without going past the image's edges.\n",
        "\n",
        "This can often be problematic. For instance, in a multi-label dataset sometimes there are small objects toward the edges of an image; these could be entirely cropped out by center cropping. Even for problems such as our pet breed classification example, it's possible that some critical feature necessary for identifying the correct breed, such as the color of the nose, could be cropped out.\n",
        "\n",
        "One solution to this problem is to avoid random cropping entirely. Instead, we could simply squish or stretch the rectangular images to fit into a square space. But then we miss out on a very useful data augmentation, and we also make the image recognition more difficult for our model, because it has to learn how to recognize squished and squeezed images, rather than just correctly proportioned images.\n",
        "\n",
        "Another solution is to not just center crop for validation, but instead to select a number of areas to crop from the original rectangular image, pass each of them through our model, and take the maximum or average of the predictions. In fact, we could do this not just for different crops, but for different values across all of our test time augmentation parameters. This is known as *test time augmentation* (TTA)."
      ]
    },
    {
      "cell_type": "markdown",
      "metadata": {
        "id": "zg_bMQd9C9k3"
      },
      "source": [
        "> jargon: test time augmentation (TTA): During inference or validation, creating multiple versions of each image, using data augmentation, and then taking the average or maximum of the predictions for each augmented version of the image."
      ]
    },
    {
      "cell_type": "markdown",
      "metadata": {
        "id": "xHhJ9xIYC9k3"
      },
      "source": [
        "Depending on the dataset, test time augmentation can result in dramatic improvements in accuracy. It does not change the time required to train at all, but will increase the amount of time required for validation or inference by the number of test-time-augmented images requested. By default, fastai will use the unaugmented center crop image plus four randomly augmented images.\n",
        "\n",
        "You can pass any `DataLoader` to fastai's `tta` method; by default, it will use your validation set:"
      ]
    },
    {
      "cell_type": "code",
      "metadata": {
        "id": "2lTSxoIuC9k4"
      },
      "source": [
        "preds,targs = learn.tta()\n",
        "accuracy(preds, targs).item()"
      ],
      "execution_count": null,
      "outputs": []
    },
    {
      "cell_type": "markdown",
      "metadata": {
        "id": "J8kM4Pm8C9k5"
      },
      "source": [
        "As we can see, using TTA gives us good a boost in performance, with no additional training required. However, it does make inference slower—if you're averaging five images for TTA, inference will be five times slower.\n",
        "\n",
        "We've seen examples of how data augmentation helps train better models. Let's now focus on a new data augmentation technique called *Mixup*."
      ]
    },
    {
      "cell_type": "markdown",
      "metadata": {
        "id": "4X9Cu6swC9k5"
      },
      "source": [
        "## Mixup"
      ]
    },
    {
      "cell_type": "markdown",
      "metadata": {
        "id": "d4B9TqooC9k5"
      },
      "source": [
        "Mixup, introduced in the 2017 paper [\"*mixup*: Beyond Empirical Risk Minimization\"](https://arxiv.org/abs/1710.09412) by Hongyi Zhang et al., is a very powerful data augmentation technique that can provide dramatically higher accuracy, especially when you don't have much data and don't have a pretrained model that was trained on data similar to your dataset. The paper explains: \"While data augmentation consistently leads to improved generalization, the procedure is dataset-dependent, and thus requires the use of expert knowledge.\" For instance, it's common to flip images as part of data augmentation, but should you flip only horizontally, or also vertically? The answer is that it depends on your dataset. In addition, if flipping (for instance) doesn't provide enough data augmentation for you, you can't \"flip more.\" It's helpful to have data augmentation techniques where you can \"dial up\" or \"dial down\" the amount of change, to see what works best for you.\n",
        "\n",
        "Mixup works as follows, for each image:\n",
        "\n",
        "1. Select another image from your dataset at random.\n",
        "1. Pick a weight at random.\n",
        "1. Take a weighted average (using the weight from step 2) of the selected image with your image; this will be your independent variable.\n",
        "1. Take a weighted average (with the same weight) of this image's labels with your image's labels; this will be your dependent variable.\n",
        "\n",
        "In pseudocode, we're doing this (where `t` is the weight for our weighted average):\n",
        "\n",
        "```\n",
        "image2,target2 = dataset[randint(0,len(dataset)]\n",
        "t = random_float(0.5,1.0)\n",
        "new_image = t * image1 + (1-t) * image2\n",
        "new_target = t * target1 + (1-t) * target2\n",
        "```\n",
        "\n",
        "For this to work, our targets need to be one-hot encoded. The paper describes this using the equations shown in <<mixup>> where $\\lambda$ is the same as `t` in our pseudocode:"
      ]
    },
    {
      "cell_type": "markdown",
      "metadata": {
        "id": "SlS0aWLCC9k6"
      },
      "source": [
        "<img src=\"https://github.com/vtecftwy/fastbook/blob/master/images/att_00063.png?raw=1\" caption=\"An excerpt from the Mixup paper\" alt=\"An excerpt from the Mixup paper\" width=\"700\" id=\"mixup\">"
      ]
    },
    {
      "cell_type": "markdown",
      "metadata": {
        "id": "PNvXZaxiC9k7"
      },
      "source": [
        "### Sidebar: Papers and Math"
      ]
    },
    {
      "cell_type": "markdown",
      "metadata": {
        "id": "DyabfE2OC9k7"
      },
      "source": [
        "We're going to be looking at more and more research papers from here on in the book. Now that you have the basic jargon, you might be surprised to discover how much of them you can understand, with a little practice! One issue you'll notice is that Greek letters, such as $\\lambda$, appear in most papers. It's a very good idea to learn the names of all the Greek letters, since otherwise it's very hard to read the papers to yourself, and remember them (or to read code based on them, since code often uses the names of the Greek letters spelled out, such as `lambda`).\n",
        "\n",
        "The bigger issue with papers is that they use math, instead of code, to explain what's going on. If you don't have much of a math background, this will likely be intimidating and confusing at first. But remember: what is being shown in the math, is something that will be implemented in code. It's just another way of talking about the same thing! After reading a few papers, you'll pick up more and more of the notation. If you don't know what a symbol is, try looking it up in Wikipedia's [list of mathematical symbols](https://en.wikipedia.org/wiki/List_of_mathematical_symbols) or drawing it in [Detexify](http://detexify.kirelabs.org/classify.html), which (using machine learning!) will find the name of your hand-drawn symbol. Then you can search online for that name to find out what it's for."
      ]
    },
    {
      "cell_type": "markdown",
      "metadata": {
        "id": "ND6zp5eUC9k7"
      },
      "source": [
        "### End sidebar"
      ]
    },
    {
      "cell_type": "markdown",
      "metadata": {
        "id": "NbBcOkRRC9k8"
      },
      "source": [
        "`Mixing a church and a gas station` shows what it looks like when we take a *linear combination* of images, as done in Mixup."
      ]
    },
    {
      "cell_type": "code",
      "metadata": {
        "id": "8agFlHBjC9k8"
      },
      "source": [
        "church = PILImage.create(get_image_files_sorted(path/'train'/'n03028079')[0])\n",
        "gas = PILImage.create(get_image_files_sorted(path/'train'/'n03425413')[0])\n",
        "church = church.resize((256,256))\n",
        "gas = gas.resize((256,256))\n",
        "tchurch = tensor(church).float() / 255.\n",
        "tgas = tensor(gas).float() / 255.\n",
        "\n",
        "_,axs = plt.subplots(1, 3, figsize=(12,4))\n",
        "show_image(tchurch, ax=axs[0]);\n",
        "show_image(tgas, ax=axs[1]);\n",
        "show_image((0.3*tchurch + 0.7*tgas), ax=axs[2]);\n",
        "print('Mixing a church and a gas station')"
      ],
      "execution_count": null,
      "outputs": []
    },
    {
      "cell_type": "markdown",
      "metadata": {
        "id": "-3Hd95-5C9k8"
      },
      "source": [
        "The third image is built by adding 0.3 times the first one and 0.7 times the second. In this example, should the model predict \"church\" or \"gas station\"? The right answer is 30% church and 70% gas station, since that's what we'll get if we take the linear combination of the one-hot-encoded targets. For instance, suppose we have 10 classes and \"church\" is represented by the index 2 and \"gas station\" is reprsented by the index 7, the one-hot-encoded representations are:\n",
        "```\n",
        "[0, 0, 1, 0, 0, 0, 0, 0, 0, 0] and [0, 0, 0, 0, 0, 0, 0, 1, 0, 0]\n",
        "```\n",
        "so our final target is:\n",
        "```\n",
        "[0, 0, 0.3, 0, 0, 0, 0, 0.7, 0, 0]\n",
        "```"
      ]
    },
    {
      "cell_type": "markdown",
      "metadata": {
        "id": "MeVvoZEvC9k9"
      },
      "source": [
        "This all done for us inside fastai by adding a *callback* to our `Learner`. `Callback`s are what is used inside fastai to inject custom behavior in the training loop (like a learning rate schedule, or training in mixed precision). We'll be learning all about callbacks, including how to make your own, in <<chapter_accel_sgd>>. For now, all you need to know is that you use the `cbs` parameter to `Learner` to pass callbacks.\n",
        "\n",
        "Here is how we train a model with Mixup:\n",
        "\n",
        "```python\n",
        "model = xresnet50(n_out=dls.c)\n",
        "learn = Learner(dls, model, loss_func=CrossEntropyLossFlat(), \n",
        "                metrics=accuracy, cbs=MixUp())\n",
        "learn.fit_one_cycle(5, 3e-3)\n",
        "```"
      ]
    },
    {
      "cell_type": "markdown",
      "metadata": {
        "id": "6iN_kn06C9k9"
      },
      "source": [
        "What happens when we train a model with data that's \"mixed up\" in this way? Clearly, it's going to be harder to train, because it's harder to see what's in each image. And the model has to predict two labels per image, rather than just one, as well as figuring out how much each one is weighted. Overfitting seems less likely to be a problem, however, because we're not showing the same image in each epoch, but are instead showing a random combination of two images.\n",
        "\n",
        "Mixup requires far more epochs to train to get better accuracy, compared to other augmentation approaches we've seen. You can try training Imagenette with and without Mixup by using the *examples/train_imagenette.py* script in the [fastai repo](https://github.com/fastai/fastai). At the time of writing, the leaderboard in the [Imagenette repo](https://github.com/fastai/imagenette/) is showing that Mixup is used for all leading results for trainings of >80 epochs, and for fewer epochs Mixup is not being used. This is in line with our experience of using Mixup too.\n",
        "\n",
        "One of the reasons that Mixup is so exciting is that it can be applied to types of data other than photos. In fact, some people have even shown good results by using Mixup on activations *inside* their models, not just on inputs—this allows Mixup to be used for NLP and other data types too.\n",
        "\n",
        "There's another subtle issue that Mixup deals with for us, which is that it's not actually possible with the models we've seen before for our loss to ever be perfect. The problem is that our labels are 1s and 0s, but the outputs of softmax and sigmoid can never equal 1 or 0. This means training our model pushes our activations ever closer to those values, such that the more epochs we do, the more extreme our activations become.\n",
        "\n",
        "With Mixup we no longer have that problem, because our labels will only be exactly 1 or 0 if we happen to \"mix\" with another image of the same class. The rest of the time our labels will be a linear combination, such as the 0.7 and 0.3 we got in the church and gas station example earlier.\n",
        "\n",
        "One issue with this, however, is that Mixup is \"accidentally\" making the labels bigger than 0, or smaller than 1. That is to say, we're not *explicitly* telling our model that we want to change the labels in this way. So, if we want to make the labels closer to, or further away from 0 and 1, we have to change the amount of Mixup—which also changes the amount of data augmentation, which might not be what we want. There is, however, a way to handle this more directly, which is to use *label smoothing*."
      ]
    },
    {
      "cell_type": "markdown",
      "metadata": {
        "id": "NQWtC86NC9k9"
      },
      "source": [
        "## Label Smoothing"
      ]
    },
    {
      "cell_type": "markdown",
      "metadata": {
        "id": "kpexKvtkC9k-"
      },
      "source": [
        "In the theoretical expression of loss, in classification problems, our targets are one-hot encoded (in practice we tend to avoid doing this to save memory, but what we compute is the same loss as if we had used one-hot encoding). That means the model is trained to return 0 for all categories but one, for which it is trained to return 1. Even 0.999 is not \"good enough\", the model will get gradients and learn to predict activations with even higher confidence. This encourages overfitting and gives you at inference time a model that is not going to give meaningful probabilities: it will always say 1 for the predicted category even if it's not too sure, just because it was trained this way.\n",
        "\n",
        "This can become very harmful if your data is not perfectly labeled. In the bear classifier we studied in <<chapter_production>>, we saw that some of the images were mislabeled, or contained two different kinds of bears. In general, your data will never be perfect. Even if the labels were manually produced by humans, they could make mistakes, or have differences of opinions on images that are harder to label.\n",
        "\n",
        "Instead, we could replace all our 1s with a number a bit less than 1, and our 0s by a number a bit more than 0, and then train. This is called *label smoothing*. By encouraging your model to be less confident, label smoothing will make your training more robust, even if there is mislabeled data. The result will be a model that generalizes better.\n",
        "\n",
        "This is how label smoothing works in practice: we start with one-hot-encoded labels, then replace all 0s with $\\frac{\\epsilon}{N}$ (that's the Greek letter *epsilon*, which is what was used in the [paper that introduced label smoothing](https://arxiv.org/abs/1512.00567) and is used in the fastai code), where $N$ is the number of classes and $\\epsilon$ is a parameter (usually 0.1, which would mean we are 10% unsure of our labels). Since we want the labels to add up to 1, replace the 1 by $1-\\epsilon + \\frac{\\epsilon}{N}$. This way, we don't encourage the model to predict something overconfidently. In our Imagenette example where we have 10 classes, the targets become something like (here for a target that corresponds to the index 3):\n",
        "```\n",
        "[0.01, 0.01, 0.01, 0.91, 0.01, 0.01, 0.01, 0.01, 0.01, 0.01]\n",
        "```\n",
        "In practice, we don't want to one-hot encode the labels, and fortunately we won't need to (the one-hot encoding is just good to explain what label smoothing is and visualize it)."
      ]
    },
    {
      "cell_type": "markdown",
      "metadata": {
        "id": "66ENAecsC9k_"
      },
      "source": [
        "### Sidebar: Label Smoothing, the Paper"
      ]
    },
    {
      "cell_type": "markdown",
      "metadata": {
        "id": "8GwUllHuC9lA"
      },
      "source": [
        "Here is how the reasoning behind label smoothing was explained in the paper by Christian Szegedy et al.:\n",
        "\n",
        "> : This maximum is not achievable for finite $z_k$ but is approached if $z_y\\gg z_k$ for all $k\\neq y$—that is, if the logit corresponding to the ground-truth label is much great than all other logits. This, however, can cause two problems. First, it may result in over-fitting: if the model learns to assign full probability to the ground-truth label for each training example, it is not guaranteed to generalize. Second, it encourages the differences between the largest logit and all others to become large, and this, combined with the bounded gradient $\\frac{\\partial\\ell}{\\partial z_k}$, reduces the ability of the model to adapt. Intuitively, this happens because the model becomes too confident about its predictions."
      ]
    },
    {
      "cell_type": "markdown",
      "metadata": {
        "id": "cCyt6tKaC9lA"
      },
      "source": [
        "Let's practice our paper-reading skills to try to interpret this. \"This maximum\" is refering to the previous part of the paragraph, which talked about the fact that 1 is the value of the label for the positive class. So it's not possible for any value (except infinity) to result in 1 after sigmoid or softmax. In a paper, you won't normally see \"any value\" written; instead it will get a symbol, which in this case is $z_k$. This shorthand is helpful in a paper, because it can be referred to again later and the reader will know what value is being discussed.\n",
        "\n",
        "Then it says \"if $z_y\\gg z_k$ for all $k\\neq y$.\" In this case, the paper immediately follows the math with an English description, which is handy because you can just read that. In the math, the $y$ is refering to the target ($y$ is defined earlier in the paper; sometimes it's hard to find where symbols are defined, but nearly all papers will define all their symbols somewhere), and $z_y$ is the activation corresponding to the target. So to get close to 1, this activation needs to be much higher than all the others for that prediction.\n",
        "\n",
        "Next, consider the statement \"if the model learns to assign full probability to the ground-truth label for each training example, it is not guaranteed to generalize.\" This is saying that making $z_y$ really big means we'll need large weights and large activations throughout our model. Large weights lead to \"bumpy\" functions, where a small change in input results in a big change to predictions. This is really bad for generalization, because it means just one pixel changing a bit could change our prediction entirely!\n",
        "\n",
        "Finally, we have \"it encourages the differences between the largest logit and all others to become large, and this, combined with the bounded gradient $\\frac{\\partial\\ell}{\\partial z_k}$, reduces the ability of the model to adapt.\" The gradient of cross-entropy, remember, is basically `output - target`. Both `output` and `target` are between 0 and 1, so the difference is between `-1` and `1`, which is why the paper says the gradient is \"bounded\" (it can't be infinite). Therefore our SGD steps are bounded too. \"Reduces the ability of the model to adapt\" means that it is hard for it to be updated in a transfer learning setting. This follows because the difference in loss due to incorrect predictions is unbounded, but we can only take a limited step each time."
      ]
    },
    {
      "cell_type": "markdown",
      "metadata": {
        "id": "UB1Ts5HQC9lA"
      },
      "source": [
        "### End sidebar"
      ]
    },
    {
      "cell_type": "markdown",
      "metadata": {
        "id": "inBEyecsC9lA"
      },
      "source": [
        "To use this in practice, we just have to change the loss function in our call to `Learner`:\n",
        "\n",
        "```python\n",
        "model = xresnet50(n_out=dls.c)\n",
        "learn = Learner(dls, model, loss_func=LabelSmoothingCrossEntropy(), \n",
        "                metrics=accuracy)\n",
        "learn.fit_one_cycle(5, 3e-3)\n",
        "```\n",
        "\n",
        "Like with Mixup, you won't generally see significant improvements from label smoothing until you train more epochs. Try it yourself and see: how many epochs do you have to train before label smoothing shows an improvement?"
      ]
    },
    {
      "cell_type": "markdown",
      "metadata": {
        "id": "VMQ1ur4zC9lB"
      },
      "source": [
        "## Conclusion"
      ]
    },
    {
      "cell_type": "markdown",
      "metadata": {
        "id": "t-EjTER4C9lB"
      },
      "source": [
        "You have now seen everything you need to train a state-of-the-art model in computer vision, whether from scratch or using transfer learning. Now all you have to do is experiment on your own problems! See if training longer with Mixup and/or label smoothing avoids overfitting and gives you better results. Try progressive resizing, and test time augmentation.\n",
        "\n",
        "Most importantly, remember that if your dataset is big, there is no point prototyping on the whole thing. Find a small subset that is representative of the whole, like we did with Imagenette, and experiment on it.\n",
        "\n",
        "In the next three chapters, we will look at the other applications directly supported by fastai: collaborative filtering, tabular modeling and working with text. We will go back to computer vision in the next section of the book, with a deep dive into convolutional neural networks in <<chapter_convolutions>>. "
      ]
    },
    {
      "cell_type": "markdown",
      "metadata": {
        "id": "IbsvwiQ5PI4B"
      },
      "source": [
        "# unpackAI Assignments Section"
      ]
    },
    {
      "cell_type": "markdown",
      "metadata": {
        "id": "-e0_ErxnUAWm"
      },
      "source": [
        "| Week | Chapters                  | Assignment                                                            | Comment |\n",
        "|:----:|---------------------------|-----------------------------------------------------------------------|:-------:|\n",
        "| 1    | Warm-up Session           | No assignment                                                         | Done\n",
        "| 2    | Chapter 4, MNIST Basic    | Make a model using SGD for the full MNIST dataset. Built from scratch | Done\n",
        "|      | Chapter 5, Pet Breeds     | Read sections on Cross-Entropy Loss to use in model                   | Done\n",
        "| 3    | Chapter 5, Pet Breeds     | Read notebook, run it and perform assingments at the bottom           | NOW\n",
        "|      | Chapter 6, Multi-Category | Read notebook, run it and perform assingments at the bottom           | NOW\n",
        "|      | Chapter 7, Sizing and TTA | Read notebook, run it and perform assingments at the bottom           | NOW"
      ]
    },
    {
      "cell_type": "markdown",
      "metadata": {
        "id": "1PuAMFR_UGpV"
      },
      "source": [
        "## Assignment 1: Normalisation"
      ]
    },
    {
      "cell_type": "markdown",
      "metadata": {
        "id": "g0QZMOQ7Zpys"
      },
      "source": [
        "The notebook explains the importance of using normalization, with the right statistics (based on the dataset used for training).\n",
        "\n",
        "In this assignment, we will play with the statistics to see what happens if we artificially use the wrong statistics. Namely, we use the `imagenet_stats` but scale it up or down."
      ]
    },
    {
      "cell_type": "code",
      "metadata": {
        "id": "ZUGovIyFVqDk"
      },
      "source": [
        "from fastai.vision.all import *\n",
        "path = untar_data(URLs.IMAGENETTE)"
      ],
      "execution_count": 7,
      "outputs": []
    },
    {
      "cell_type": "markdown",
      "metadata": {
        "id": "gh3TM5ntFca-"
      },
      "source": [
        "The function below scales the statistics from imagenet by a factor. The correct stats for the dataset is the following:\n",
        "```\n",
        "imagenet_stats\n",
        "\n",
        "> ([0.485, 0.456, 0.406], [0.229, 0.224, 0.225])\n",
        "```\n",
        "This means that \n",
        "- the mean for each RGB channel is `[0.485, 0.456, 0.406]`\n",
        "- the standard deviation for RGB channel is `[0.229, 0.224, 0.225]`\n",
        "\n",
        "The function will scale the value of each mean and std by the same factor."
      ]
    },
    {
      "cell_type": "code",
      "metadata": {
        "id": "5oAkIEie8fIh",
        "colab": {
          "base_uri": "https://localhost:8080/"
        },
        "outputId": "0ce02b8d-d77f-4f6c-d210-f71f082cf18a"
      },
      "source": [
        "def scale_stats(fact=0.5):\n",
        "    mean_rgb, std_rgb = imagenet_stats\n",
        "    mean_rgb = [item * fact for item in mean_rgb]\n",
        "    std_rgb = [item * fact for item in std_rgb]\n",
        "    return (mean_rgb, std_rgb)\n",
        "\n",
        "print(imagenet_stats)\n",
        "print(scale_stats(0.5))"
      ],
      "execution_count": 9,
      "outputs": [
        {
          "output_type": "stream",
          "text": [
            "([0.485, 0.456, 0.406], [0.229, 0.224, 0.225])\n",
            "([0.2425, 0.228, 0.203], [0.1145, 0.112, 0.1125])\n"
          ],
          "name": "stdout"
        }
      ]
    },
    {
      "cell_type": "code",
      "metadata": {
        "id": "YPjfftaX7zzU"
      },
      "source": [
        "# Function to create a dls using scaled statistics for comparison\n",
        "def get_dls_scaled_stats(fact=0.5):\n",
        "    stats = scale_stats(fact)\n",
        "    dblock = DataBlock(blocks=(ImageBlock, CategoryBlock),\n",
        "                       get_items=get_image_files,\n",
        "                       get_y=parent_label,\n",
        "                       item_tfms=Resize(250),\n",
        "                       batch_tfms=[*aug_transforms(size=128, min_scale=0.75),\n",
        "                                   Normalize.from_stats(*stats)])\n",
        "    dls = dblock.dataloaders(path, bs=64)\n",
        "    return dls"
      ],
      "execution_count": 10,
      "outputs": []
    },
    {
      "cell_type": "code",
      "metadata": {
        "id": "Nif1QLmB7zwe",
        "colab": {
          "base_uri": "https://localhost:8080/",
          "height": 392,
          "referenced_widgets": [
            "00c76e936c454b278d075735230982c6",
            "70e3a6b4e3de4f9cb862d760b78ca9d8",
            "a789e333a4fd47348b89d7d87a245253",
            "5f63248828674670b1021e8a7a007e16",
            "4c6828a95dbc4ad1ad7cb3d38d0ed33e",
            "b0de8a3e27f94fbf83c9eb9a8e8e8140",
            "7ecf36914c554e0790e9d2e4d3b9e20b",
            "2732749dd2bc4c019e7d675065ce1333"
          ]
        },
        "outputId": "cefe0037-4d1b-4f06-a8e5-9a390bf48ae0"
      },
      "source": [
        "# Baseline: Using the correct statistics\n",
        "set_seed(1988, reproducible=True)\n",
        "\n",
        "dls = get_dls_scaled_stats(fact=1)\n",
        "learn = cnn_learner(dls, resnet18, metrics=error_rate)\n",
        "\n",
        "learn.lr_find()"
      ],
      "execution_count": 11,
      "outputs": [
        {
          "output_type": "stream",
          "text": [
            "Downloading: \"https://download.pytorch.org/models/resnet18-5c106cde.pth\" to /root/.cache/torch/hub/checkpoints/resnet18-5c106cde.pth\n"
          ],
          "name": "stderr"
        },
        {
          "output_type": "display_data",
          "data": {
            "application/vnd.jupyter.widget-view+json": {
              "model_id": "00c76e936c454b278d075735230982c6",
              "version_minor": 0,
              "version_major": 2
            },
            "text/plain": [
              "HBox(children=(FloatProgress(value=0.0, max=46827520.0), HTML(value='')))"
            ]
          },
          "metadata": {
            "tags": []
          }
        },
        {
          "output_type": "stream",
          "text": [
            "\n"
          ],
          "name": "stdout"
        },
        {
          "output_type": "display_data",
          "data": {
            "text/html": [
              ""
            ],
            "text/plain": [
              "<IPython.core.display.HTML object>"
            ]
          },
          "metadata": {
            "tags": []
          }
        },
        {
          "output_type": "execute_result",
          "data": {
            "text/plain": [
              "SuggestedLRs(lr_min=0.010000000149011612, lr_steep=0.00363078061491251)"
            ]
          },
          "metadata": {
            "tags": []
          },
          "execution_count": 11
        },
        {
          "output_type": "display_data",
          "data": {
            "image/png": "[encoded data removed]",
            "text/plain": [
              "<Figure size 432x288 with 1 Axes>"
            ]
          },
          "metadata": {
            "tags": [],
            "needs_background": "light"
          }
        }
      ]
    },
    {
      "cell_type": "code",
      "metadata": {
        "id": "FRJNcnt37ztH",
        "colab": {
          "base_uri": "https://localhost:8080/",
          "height": 142
        },
        "outputId": "29ef4579-298e-4397-86ce-e9db9972f2e0"
      },
      "source": [
        "lr= 0.1# pick your lr\n",
        "learn.fit_one_cycle(n_epoch=3, lr_max=lr)"
      ],
      "execution_count": 12,
      "outputs": [
        {
          "output_type": "display_data",
          "data": {
            "text/html": [
              "<table border=\"1\" class=\"dataframe\">\n",
              "  <thead>\n",
              "    <tr style=\"text-align: left;\">\n",
              "      <th>epoch</th>\n",
              "      <th>train_loss</th>\n",
              "      <th>valid_loss</th>\n",
              "      <th>error_rate</th>\n",
              "      <th>time</th>\n",
              "    </tr>\n",
              "  </thead>\n",
              "  <tbody>\n",
              "    <tr>\n",
              "      <td>0</td>\n",
              "      <td>1.975262</td>\n",
              "      <td>2.887182</td>\n",
              "      <td>0.526886</td>\n",
              "      <td>01:57</td>\n",
              "    </tr>\n",
              "    <tr>\n",
              "      <td>1</td>\n",
              "      <td>1.307792</td>\n",
              "      <td>1.823915</td>\n",
              "      <td>0.268484</td>\n",
              "      <td>01:57</td>\n",
              "    </tr>\n",
              "    <tr>\n",
              "      <td>2</td>\n",
              "      <td>0.866566</td>\n",
              "      <td>0.742167</td>\n",
              "      <td>0.222181</td>\n",
              "      <td>01:57</td>\n",
              "    </tr>\n",
              "  </tbody>\n",
              "</table>"
            ],
            "text/plain": [
              "<IPython.core.display.HTML object>"
            ]
          },
          "metadata": {
            "tags": []
          }
        }
      ]
    },
    {
      "cell_type": "code",
      "metadata": {
        "id": "E7SjYGChEVTu"
      },
      "source": [
        "# Using scaled down stats. For instance multiplied by 0.25\n",
        "# Function to create a dls using scaled statistics for comparison\n",
        "def get_dls_scaled_stats(fact=0.5):\n",
        "    stats = scale_stats(fact)\n",
        "    dblock = DataBlock(blocks=(ImageBlock, CategoryBlock),\n",
        "                       get_items=get_image_files,\n",
        "                       get_y=parent_label,\n",
        "                       item_tfms=Resize(250),\n",
        "                       batch_tfms=[*aug_transforms(size=128, min_scale=0.75),\n",
        "                                   Normalize.from_stats(*stats)])\n",
        "    dls = dblock.dataloaders(path, bs=64)\n",
        "    return dls\n",
        "set_seed(1988, reproducible=True)\n",
        "dls = get_dls_scaled_stats(fact=1)\n",
        "learn = cnn_learner(dls, resnet18, metrics=error_rate)\n"
      ],
      "execution_count": 13,
      "outputs": []
    },
    {
      "cell_type": "code",
      "metadata": {
        "id": "f5QL13VzEWy2",
        "colab": {
          "base_uri": "https://localhost:8080/",
          "height": 142
        },
        "outputId": "5e0e0326-b891-48bc-e76a-52c84ad7d73c"
      },
      "source": [
        "# We use the same lr as above because we fixed the seed\n",
        "lr= 0.1# pick your lr\n",
        "learn.fit_one_cycle(n_epoch=3, lr_max=lr)"
      ],
      "execution_count": 14,
      "outputs": [
        {
          "output_type": "display_data",
          "data": {
            "text/html": [
              "<table border=\"1\" class=\"dataframe\">\n",
              "  <thead>\n",
              "    <tr style=\"text-align: left;\">\n",
              "      <th>epoch</th>\n",
              "      <th>train_loss</th>\n",
              "      <th>valid_loss</th>\n",
              "      <th>error_rate</th>\n",
              "      <th>time</th>\n",
              "    </tr>\n",
              "  </thead>\n",
              "  <tbody>\n",
              "    <tr>\n",
              "      <td>0</td>\n",
              "      <td>1.798420</td>\n",
              "      <td>3.252913</td>\n",
              "      <td>0.521285</td>\n",
              "      <td>01:58</td>\n",
              "    </tr>\n",
              "    <tr>\n",
              "      <td>1</td>\n",
              "      <td>1.119443</td>\n",
              "      <td>39.135963</td>\n",
              "      <td>0.218820</td>\n",
              "      <td>01:57</td>\n",
              "    </tr>\n",
              "    <tr>\n",
              "      <td>2</td>\n",
              "      <td>0.651181</td>\n",
              "      <td>38.158619</td>\n",
              "      <td>0.156087</td>\n",
              "      <td>01:58</td>\n",
              "    </tr>\n",
              "  </tbody>\n",
              "</table>"
            ],
            "text/plain": [
              "<IPython.core.display.HTML object>"
            ]
          },
          "metadata": {
            "tags": []
          }
        }
      ]
    },
    {
      "cell_type": "code",
      "metadata": {
        "id": "br9J7fnUG8OO"
      },
      "source": [
        "# Using scaled up stats. For instance, multiplied by 4\n",
        "# Function to create a dls using scaled statistics for comparison\n",
        "def get_dls_scaled_stats(fact=4):\n",
        "    stats = scale_stats(fact)\n",
        "    dblock = DataBlock(blocks=(ImageBlock, CategoryBlock),\n",
        "                       get_items=get_image_files,\n",
        "                       get_y=parent_label,\n",
        "                       item_tfms=Resize(250),\n",
        "                       batch_tfms=[*aug_transforms(size=128, min_scale=0.75),\n",
        "                                   Normalize.from_stats(*stats)])\n",
        "    dls = dblock.dataloaders(path, bs=64)\n",
        "    return dls\n",
        "\n",
        "set_seed(1988, reproducible=True)\n",
        "dls = get_dls_scaled_stats(fact=1)\n",
        "learn = cnn_learner(dls, resnet18, metrics=error_rate)\n",
        "\n"
      ],
      "execution_count": 15,
      "outputs": []
    },
    {
      "cell_type": "code",
      "metadata": {
        "id": "-Nz6zDqrHazN",
        "colab": {
          "base_uri": "https://localhost:8080/",
          "height": 142
        },
        "outputId": "387e0fa7-dd31-4acd-df8a-b5e2281a1e4a"
      },
      "source": [
        "# We use the same lr as above because we fixed the seed\n",
        "lr= 0.1# pick your lr\n",
        "learn.fit_one_cycle(n_epoch=3, lr_max=lr)"
      ],
      "execution_count": 16,
      "outputs": [
        {
          "output_type": "display_data",
          "data": {
            "text/html": [
              "<table border=\"1\" class=\"dataframe\">\n",
              "  <thead>\n",
              "    <tr style=\"text-align: left;\">\n",
              "      <th>epoch</th>\n",
              "      <th>train_loss</th>\n",
              "      <th>valid_loss</th>\n",
              "      <th>error_rate</th>\n",
              "      <th>time</th>\n",
              "    </tr>\n",
              "  </thead>\n",
              "  <tbody>\n",
              "    <tr>\n",
              "      <td>0</td>\n",
              "      <td>1.798420</td>\n",
              "      <td>3.252913</td>\n",
              "      <td>0.521285</td>\n",
              "      <td>01:58</td>\n",
              "    </tr>\n",
              "    <tr>\n",
              "      <td>1</td>\n",
              "      <td>1.119443</td>\n",
              "      <td>39.135963</td>\n",
              "      <td>0.218820</td>\n",
              "      <td>01:57</td>\n",
              "    </tr>\n",
              "    <tr>\n",
              "      <td>2</td>\n",
              "      <td>0.651181</td>\n",
              "      <td>38.158619</td>\n",
              "      <td>0.156087</td>\n",
              "      <td>01:58</td>\n",
              "    </tr>\n",
              "  </tbody>\n",
              "</table>"
            ],
            "text/plain": [
              "<IPython.core.display.HTML object>"
            ]
          },
          "metadata": {
            "tags": []
          }
        }
      ]
    },
    {
      "cell_type": "code",
      "metadata": {
        "id": "NjxR_p7XHqJV"
      },
      "source": [
        "# Using further modified stats\n"
      ],
      "execution_count": null,
      "outputs": []
    },
    {
      "cell_type": "code",
      "metadata": {
        "id": "ak1DZJCRHp7N"
      },
      "source": [
        ""
      ],
      "execution_count": null,
      "outputs": []
    },
    {
      "cell_type": "code",
      "metadata": {
        "id": "8hCvn5YRHpuX"
      },
      "source": [
        ""
      ],
      "execution_count": null,
      "outputs": []
    },
    {
      "cell_type": "markdown",
      "metadata": {
        "id": "ETs48cAkHqhk"
      },
      "source": [
        "#### Conclusion and reflections:\n",
        "- ...\n",
        "- ..."
      ]
    },
    {
      "cell_type": "markdown",
      "metadata": {
        "id": "DBNHIz7SUGgV"
      },
      "source": [
        "## Assignment 2: Progressive resizing"
      ]
    },
    {
      "cell_type": "markdown",
      "metadata": {
        "id": "ozzBlwb9ZtV0"
      },
      "source": [
        "In the same way as for the normlization, use progressive resizing to make a few experiments, making sure to seed your `dls` and `model` to have comparisons"
      ]
    },
    {
      "cell_type": "code",
      "metadata": {
        "id": "mkGc61BpMqM7"
      },
      "source": [
        "# Same function as aboce to create dls for specific bs and size\n",
        "def get_dls(bs, size):\n",
        "    dblock = DataBlock(blocks=(ImageBlock, CategoryBlock),\n",
        "                       get_items=get_image_files,\n",
        "                       get_y=parent_label,\n",
        "                       item_tfms=Resize(460),\n",
        "                       batch_tfms=[*aug_transforms(size=size, min_scale=0.75),\n",
        "                                   Normalize.from_stats(*imagenet_stats)])\n",
        "    return dblock.dataloaders(path, bs=bs)"
      ],
      "execution_count": 17,
      "outputs": []
    },
    {
      "cell_type": "code",
      "metadata": {
        "colab": {
          "base_uri": "https://localhost:8080/",
          "height": 173
        },
        "id": "qyx684frVK78",
        "outputId": "09732486-8996-433f-e67b-11b028e7322f"
      },
      "source": [
        "# Base experiment (same parameters as above, rerun to fix the base line with the seed)\n",
        "# Step 1: small sizes and large batch\n",
        "set_seed(1988, reproducible=True)\n",
        "\n",
        "dls = get_dls(bs=128, size=128)\n",
        "learn = Learner(dls, xresnet50(n_out=dls.c), \n",
        "                loss_func=CrossEntropyLossFlat(), \n",
        "                metrics=accuracy)\n",
        "learn.fit_one_cycle(4, 3e-3)"
      ],
      "execution_count": 18,
      "outputs": [
        {
          "output_type": "display_data",
          "data": {
            "text/html": [
              "<table border=\"1\" class=\"dataframe\">\n",
              "  <thead>\n",
              "    <tr style=\"text-align: left;\">\n",
              "      <th>epoch</th>\n",
              "      <th>train_loss</th>\n",
              "      <th>valid_loss</th>\n",
              "      <th>accuracy</th>\n",
              "      <th>time</th>\n",
              "    </tr>\n",
              "  </thead>\n",
              "  <tbody>\n",
              "    <tr>\n",
              "      <td>0</td>\n",
              "      <td>1.623911</td>\n",
              "      <td>2.607750</td>\n",
              "      <td>0.352875</td>\n",
              "      <td>03:02</td>\n",
              "    </tr>\n",
              "    <tr>\n",
              "      <td>1</td>\n",
              "      <td>1.251727</td>\n",
              "      <td>1.167267</td>\n",
              "      <td>0.622479</td>\n",
              "      <td>03:02</td>\n",
              "    </tr>\n",
              "    <tr>\n",
              "      <td>2</td>\n",
              "      <td>0.948125</td>\n",
              "      <td>0.853349</td>\n",
              "      <td>0.732636</td>\n",
              "      <td>03:02</td>\n",
              "    </tr>\n",
              "    <tr>\n",
              "      <td>3</td>\n",
              "      <td>0.743761</td>\n",
              "      <td>0.673053</td>\n",
              "      <td>0.786408</td>\n",
              "      <td>03:02</td>\n",
              "    </tr>\n",
              "  </tbody>\n",
              "</table>"
            ],
            "text/plain": [
              "<IPython.core.display.HTML object>"
            ]
          },
          "metadata": {
            "tags": []
          }
        }
      ]
    },
    {
      "cell_type": "code",
      "metadata": {
        "colab": {
          "base_uri": "https://localhost:8080/",
          "height": 158
        },
        "id": "bzhOO-yGM1wr",
        "outputId": "33ed045c-5566-4a16-85a0-bdd21ef7fd2f"
      },
      "source": [
        "# Step 2: larger sizes and smaller batch\n",
        "learn.dls = get_dls(bs=64, size=224)\n",
        "learn.fine_tune(5, 1e-3)"
      ],
      "execution_count": null,
      "outputs": [
        {
          "output_type": "display_data",
          "data": {
            "text/html": [
              "<table border=\"1\" class=\"dataframe\">\n",
              "  <thead>\n",
              "    <tr style=\"text-align: left;\">\n",
              "      <th>epoch</th>\n",
              "      <th>train_loss</th>\n",
              "      <th>valid_loss</th>\n",
              "      <th>accuracy</th>\n",
              "      <th>time</th>\n",
              "    </tr>\n",
              "  </thead>\n",
              "  <tbody>\n",
              "    <tr>\n",
              "      <td>0</td>\n",
              "      <td>0.841591</td>\n",
              "      <td>0.774868</td>\n",
              "      <td>0.761016</td>\n",
              "      <td>06:04</td>\n",
              "    </tr>\n",
              "  </tbody>\n",
              "</table>"
            ],
            "text/plain": [
              "<IPython.core.display.HTML object>"
            ]
          },
          "metadata": {
            "tags": []
          }
        },
        {
          "output_type": "display_data",
          "data": {
            "text/html": [
              "\n",
              "    <div>\n",
              "        <style>\n",
              "            /* Turns off some styling */\n",
              "            progress {\n",
              "                /* gets rid of default border in Firefox and Opera. */\n",
              "                border: none;\n",
              "                /* Needs to be in here for Safari polyfill so background images work as expected. */\n",
              "                background-size: auto;\n",
              "            }\n",
              "            .progress-bar-interrupted, .progress-bar-interrupted::-webkit-progress-bar {\n",
              "                background: #F44336;\n",
              "            }\n",
              "        </style>\n",
              "      <progress value='0' class='' max='5' style='width:300px; height:20px; vertical-align: middle;'></progress>\n",
              "      0.00% [0/5 00:00<00:00]\n",
              "    </div>\n",
              "    \n",
              "<table border=\"1\" class=\"dataframe\">\n",
              "  <thead>\n",
              "    <tr style=\"text-align: left;\">\n",
              "      <th>epoch</th>\n",
              "      <th>train_loss</th>\n",
              "      <th>valid_loss</th>\n",
              "      <th>accuracy</th>\n",
              "      <th>time</th>\n",
              "    </tr>\n",
              "  </thead>\n",
              "  <tbody>\n",
              "  </tbody>\n",
              "</table><p>\n",
              "\n",
              "    <div>\n",
              "        <style>\n",
              "            /* Turns off some styling */\n",
              "            progress {\n",
              "                /* gets rid of default border in Firefox and Opera. */\n",
              "                border: none;\n",
              "                /* Needs to be in here for Safari polyfill so background images work as expected. */\n",
              "                background-size: auto;\n",
              "            }\n",
              "            .progress-bar-interrupted, .progress-bar-interrupted::-webkit-progress-bar {\n",
              "                background: #F44336;\n",
              "            }\n",
              "        </style>\n",
              "      <progress value='11' class='' max='167' style='width:300px; height:20px; vertical-align: middle;'></progress>\n",
              "      6.59% [11/167 00:22<05:21 0.7822]\n",
              "    </div>\n",
              "    "
            ],
            "text/plain": [
              "<IPython.core.display.HTML object>"
            ]
          },
          "metadata": {
            "tags": []
          }
        }
      ]
    },
    {
      "cell_type": "code",
      "metadata": {
        "id": "biZlk_tRVTKH"
      },
      "source": [
        "# Comparison 1 with different resizing\n",
        "set_seed(1988, reproducible=True)\n",
        "\n",
        "# add your code\n",
        "dls = get_dls_scaled_stats(fact=1)\n",
        "learn = cnn_learner(dls, resnet18, metrics=error_rate)\n",
        "\n",
        "learn.lr_find()"
      ],
      "execution_count": null,
      "outputs": []
    },
    {
      "cell_type": "code",
      "metadata": {
        "id": "qdTB9AURLxvy"
      },
      "source": [
        "# Comparison 2 with different resizing\n",
        "set_seed(1988, reproducible=True)\n",
        "\n",
        "# add your code\n",
        "dls = get_dls_scaled_stats(fact=1)\n",
        "learn = cnn_learner(dls, resnet18, metrics=error_rate)\n",
        "\n",
        "learn.lr_find()"
      ],
      "execution_count": null,
      "outputs": []
    },
    {
      "cell_type": "markdown",
      "metadata": {
        "id": "Ow5etdV_VrpP"
      },
      "source": [
        "#### Conclusions and Reflections:"
      ]
    },
    {
      "cell_type": "markdown",
      "metadata": {
        "id": "cHtEU389WLS3"
      },
      "source": [
        "- ...\n",
        "- ..."
      ]
    },
    {
      "cell_type": "markdown",
      "metadata": {
        "id": "SXkuOqyZC9lB"
      },
      "source": [
        "# Questionnaire"
      ]
    },
    {
      "cell_type": "markdown",
      "metadata": {
        "id": "YwAxx2xRC9lB"
      },
      "source": [
        "1. What is the difference between ImageNet and Imagenette? When is it better to experiment on one versus the other?\n",
        "1. What is normalization?\n",
        "1. Why didn't we have to care about normalization when using a pretrained model?\n",
        "1. What is progressive resizing?\n",
        "1. Implement progressive resizing in your own project. Did it help?\n",
        "1. What is test time augmentation? How do you use it in fastai?\n",
        "1. **Is using TTA at inference slower or faster than regular inference? Why?**\n",
        "1. What is Mixup? How do you use it in fastai?\n",
        "1. **Why does Mixup prevent the model from being too confident?**\n",
        "1. Why does training with Mixup for five epochs end up worse than training without Mixup?\n",
        "1. What is the idea behind label smoothing?\n",
        "1. **What problems in your data can label smoothing help with?**\n",
        "1. When using label smoothing with five categories, what is the target associated with the index 1?\n",
        "1. What is the first step to take when you want to prototype quick experiments on a new dataset?"
      ]
    },
    {
      "cell_type": "markdown",
      "metadata": {
        "id": "lx7-k4UQC9lC"
      },
      "source": [
        "### Further Research\n",
        "\n",
        "1. Use the fastai documentation to build a function that crops an image to a square in each of the four corners, then implement a TTA method that averages the predictions on a center crop and those four crops. Did it help? Is it better than the TTA method of fastai?\n",
        "1. Find the Mixup paper on arXiv and read it. Pick one or two more recent articles introducing variants of Mixup and read them, then try to implement them on your problem.\n",
        "1. Find the script training Imagenette using Mixup and use it as an example to build a script for a long training on your own project. Execute it and see if it helps.\n",
        "1. Read the sidebar \"Label Smoothing, the Paper\", look at the relevant section of the original paper and see if you can follow it. Don't be afraid to ask for help!"
      ]
    },
    {
      "cell_type": "code",
      "metadata": {
        "id": "A5euP0RZC9lC"
      },
      "source": [
        "#extract crops\n",
        "def crops_tta(img, size):\n",
        "    h, w = img.shape\n",
        "    c = img.crop_pad(size)\n",
        "    ul = img.crop((0, 0, 0+size, 0+size))\n",
        "    ur = img.crop((w-size, 0, w, size))\n",
        "    ll = img.crop((0, h-size, size, h))\n",
        "    lr = img.crop((w-size, h-size, w, h))\n",
        "    return c, ul, ur, ll, lr\n",
        "\n",
        "#\n",
        "def tta_cc(learn, dl, size, img):\n",
        "    _,_,w,h=img.shape\n",
        "    UpperLeft=img[...,size,size]\n",
        "    UpperRiget=img[...,size,w-size]\n",
        "    LowerLeft=img[...,h-size,size]\n",
        "    LowerRight=img[...,h-size,w-size]\n",
        "    tfms = [UpperLeft, UpperRight, LowerLeft, LowerRight]\n",
        "    tta_preds = []\n",
        "    # get predictions for default approach on validation sets that uses the center crop\n",
        "    preds, targs = learn.get_preds()\n",
        "    tta_preds.append(preds[None])\n",
        "    # get predictions using each of the four corner crops\n",
        "    for tfm in tfms:\n",
        "        dl = dl.new(after_batch=Pipeline([IntToFloatTensor, tfm]))\n",
        "        tta_preds.append(learn.get_preds(dl=dl, inner=True)[0][None])\n",
        "    \n",
        "    tta_preds = torch.cat(tta_preds).mean(0)\n",
        "    return tta_preds, targs"
      ],
      "execution_count": null,
      "outputs": []
    }
  ]
}